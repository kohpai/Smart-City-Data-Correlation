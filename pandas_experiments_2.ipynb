{
 "cells": [
  {
   "cell_type": "code",
   "execution_count": 4,
   "metadata": {
    "collapsed": true
   },
   "outputs": [],
   "source": [
    "import pandas as pd\n",
    "\n",
    "path = 'http://archive.ics.uci.edu/ml/machine-learning-databases/auto-mpg/auto-mpg.data'\n",
    "mpg_data = pd.read_csv(path, delim_whitespace=True, header=None,\n",
    "                      names=['mpg', 'cylinders', 'displacement', 'horsepower',\n",
    "                            'weight', 'acceleration', 'model_year', 'origin', 'name'],\n",
    "                      na_values='?')"
   ]
  },
  {
   "cell_type": "code",
   "execution_count": 10,
   "metadata": {
    "scrolled": true
   },
   "outputs": [
    {
     "name": "stdout",
     "output_type": "stream",
     "text": [
      "      mpg  cylinders  displacement  horsepower  weight  acceleration  \\\n",
      "0    18.0          8         307.0       130.0  3504.0          12.0   \n",
      "1    15.0          8         350.0       165.0  3693.0          11.5   \n",
      "2    18.0          8         318.0       150.0  3436.0          11.0   \n",
      "3    16.0          8         304.0       150.0  3433.0          12.0   \n",
      "4    17.0          8         302.0       140.0  3449.0          10.5   \n",
      "5    15.0          8         429.0       198.0  4341.0          10.0   \n",
      "6    14.0          8         454.0       220.0  4354.0           9.0   \n",
      "7    14.0          8         440.0       215.0  4312.0           8.5   \n",
      "8    14.0          8         455.0       225.0  4425.0          10.0   \n",
      "9    15.0          8         390.0       190.0  3850.0           8.5   \n",
      "10   15.0          8         383.0       170.0  3563.0          10.0   \n",
      "11   14.0          8         340.0       160.0  3609.0           8.0   \n",
      "12   15.0          8         400.0       150.0  3761.0           9.5   \n",
      "13   14.0          8         455.0       225.0  3086.0          10.0   \n",
      "14   24.0          4         113.0        95.0  2372.0          15.0   \n",
      "15   22.0          6         198.0        95.0  2833.0          15.5   \n",
      "16   18.0          6         199.0        97.0  2774.0          15.5   \n",
      "17   21.0          6         200.0        85.0  2587.0          16.0   \n",
      "18   27.0          4          97.0        88.0  2130.0          14.5   \n",
      "19   26.0          4          97.0        46.0  1835.0          20.5   \n",
      "20   25.0          4         110.0        87.0  2672.0          17.5   \n",
      "21   24.0          4         107.0        90.0  2430.0          14.5   \n",
      "22   25.0          4         104.0        95.0  2375.0          17.5   \n",
      "23   26.0          4         121.0       113.0  2234.0          12.5   \n",
      "24   21.0          6         199.0        90.0  2648.0          15.0   \n",
      "25   10.0          8         360.0       215.0  4615.0          14.0   \n",
      "26   10.0          8         307.0       200.0  4376.0          15.0   \n",
      "27   11.0          8         318.0       210.0  4382.0          13.5   \n",
      "28    9.0          8         304.0       193.0  4732.0          18.5   \n",
      "29   27.0          4          97.0        88.0  2130.0          14.5   \n",
      "..    ...        ...           ...         ...     ...           ...   \n",
      "368  27.0          4         112.0        88.0  2640.0          18.6   \n",
      "369  34.0          4         112.0        88.0  2395.0          18.0   \n",
      "370  31.0          4         112.0        85.0  2575.0          16.2   \n",
      "371  29.0          4         135.0        84.0  2525.0          16.0   \n",
      "372  27.0          4         151.0        90.0  2735.0          18.0   \n",
      "373  24.0          4         140.0        92.0  2865.0          16.4   \n",
      "374  23.0          4         151.0         NaN  3035.0          20.5   \n",
      "375  36.0          4         105.0        74.0  1980.0          15.3   \n",
      "376  37.0          4          91.0        68.0  2025.0          18.2   \n",
      "377  31.0          4          91.0        68.0  1970.0          17.6   \n",
      "378  38.0          4         105.0        63.0  2125.0          14.7   \n",
      "379  36.0          4          98.0        70.0  2125.0          17.3   \n",
      "380  36.0          4         120.0        88.0  2160.0          14.5   \n",
      "381  36.0          4         107.0        75.0  2205.0          14.5   \n",
      "382  34.0          4         108.0        70.0  2245.0          16.9   \n",
      "383  38.0          4          91.0        67.0  1965.0          15.0   \n",
      "384  32.0          4          91.0        67.0  1965.0          15.7   \n",
      "385  38.0          4          91.0        67.0  1995.0          16.2   \n",
      "386  25.0          6         181.0       110.0  2945.0          16.4   \n",
      "387  38.0          6         262.0        85.0  3015.0          17.0   \n",
      "388  26.0          4         156.0        92.0  2585.0          14.5   \n",
      "389  22.0          6         232.0       112.0  2835.0          14.7   \n",
      "390  32.0          4         144.0        96.0  2665.0          13.9   \n",
      "391  36.0          4         135.0        84.0  2370.0          13.0   \n",
      "392  27.0          4         151.0        90.0  2950.0          17.3   \n",
      "393  27.0          4         140.0        86.0  2790.0          15.6   \n",
      "394  44.0          4          97.0        52.0  2130.0          24.6   \n",
      "395  32.0          4         135.0        84.0  2295.0          11.6   \n",
      "396  28.0          4         120.0        79.0  2625.0          18.6   \n",
      "397  31.0          4         119.0        82.0  2720.0          19.4   \n",
      "\n",
      "     model_year  origin                               name  \n",
      "0            70       1          chevrolet chevelle malibu  \n",
      "1            70       1                  buick skylark 320  \n",
      "2            70       1                 plymouth satellite  \n",
      "3            70       1                      amc rebel sst  \n",
      "4            70       1                        ford torino  \n",
      "5            70       1                   ford galaxie 500  \n",
      "6            70       1                   chevrolet impala  \n",
      "7            70       1                  plymouth fury iii  \n",
      "8            70       1                   pontiac catalina  \n",
      "9            70       1                 amc ambassador dpl  \n",
      "10           70       1                dodge challenger se  \n",
      "11           70       1                 plymouth 'cuda 340  \n",
      "12           70       1              chevrolet monte carlo  \n",
      "13           70       1            buick estate wagon (sw)  \n",
      "14           70       3              toyota corona mark ii  \n",
      "15           70       1                    plymouth duster  \n",
      "16           70       1                         amc hornet  \n",
      "17           70       1                      ford maverick  \n",
      "18           70       3                       datsun pl510  \n",
      "19           70       2       volkswagen 1131 deluxe sedan  \n",
      "20           70       2                        peugeot 504  \n",
      "21           70       2                        audi 100 ls  \n",
      "22           70       2                           saab 99e  \n",
      "23           70       2                           bmw 2002  \n",
      "24           70       1                        amc gremlin  \n",
      "25           70       1                          ford f250  \n",
      "26           70       1                          chevy c20  \n",
      "27           70       1                         dodge d200  \n",
      "28           70       1                           hi 1200d  \n",
      "29           71       3                       datsun pl510  \n",
      "..          ...     ...                                ...  \n",
      "368          82       1           chevrolet cavalier wagon  \n",
      "369          82       1          chevrolet cavalier 2-door  \n",
      "370          82       1         pontiac j2000 se hatchback  \n",
      "371          82       1                     dodge aries se  \n",
      "372          82       1                    pontiac phoenix  \n",
      "373          82       1               ford fairmont futura  \n",
      "374          82       1                     amc concord dl  \n",
      "375          82       2                volkswagen rabbit l  \n",
      "376          82       3                 mazda glc custom l  \n",
      "377          82       3                   mazda glc custom  \n",
      "378          82       1             plymouth horizon miser  \n",
      "379          82       1                     mercury lynx l  \n",
      "380          82       3                   nissan stanza xe  \n",
      "381          82       3                       honda accord  \n",
      "382          82       3                     toyota corolla  \n",
      "383          82       3                        honda civic  \n",
      "384          82       3                 honda civic (auto)  \n",
      "385          82       3                      datsun 310 gx  \n",
      "386          82       1              buick century limited  \n",
      "387          82       1  oldsmobile cutlass ciera (diesel)  \n",
      "388          82       1         chrysler lebaron medallion  \n",
      "389          82       1                     ford granada l  \n",
      "390          82       3                   toyota celica gt  \n",
      "391          82       1                  dodge charger 2.2  \n",
      "392          82       1                   chevrolet camaro  \n",
      "393          82       1                    ford mustang gl  \n",
      "394          82       2                          vw pickup  \n",
      "395          82       1                      dodge rampage  \n",
      "396          82       1                        ford ranger  \n",
      "397          82       1                         chevy s-10  \n",
      "\n",
      "[398 rows x 9 columns]\n"
     ]
    }
   ],
   "source": [
    "print(mpg_data)"
   ]
  },
  {
   "cell_type": "code",
   "execution_count": 7,
   "metadata": {},
   "outputs": [
    {
     "data": {
      "text/html": [
       "<div>\n",
       "<style>\n",
       "    .dataframe thead tr:only-child th {\n",
       "        text-align: right;\n",
       "    }\n",
       "\n",
       "    .dataframe thead th {\n",
       "        text-align: left;\n",
       "    }\n",
       "\n",
       "    .dataframe tbody tr th {\n",
       "        vertical-align: top;\n",
       "    }\n",
       "</style>\n",
       "<table border=\"1\" class=\"dataframe\">\n",
       "  <thead>\n",
       "    <tr style=\"text-align: right;\">\n",
       "      <th></th>\n",
       "      <th>mpg</th>\n",
       "      <th>cylinders</th>\n",
       "      <th>displacement</th>\n",
       "      <th>horsepower</th>\n",
       "      <th>weight</th>\n",
       "      <th>acceleration</th>\n",
       "      <th>model_year</th>\n",
       "      <th>origin</th>\n",
       "    </tr>\n",
       "  </thead>\n",
       "  <tbody>\n",
       "    <tr>\n",
       "      <th>count</th>\n",
       "      <td>398.000000</td>\n",
       "      <td>398.000000</td>\n",
       "      <td>398.000000</td>\n",
       "      <td>392.000000</td>\n",
       "      <td>398.000000</td>\n",
       "      <td>398.000000</td>\n",
       "      <td>398.000000</td>\n",
       "      <td>398.000000</td>\n",
       "    </tr>\n",
       "    <tr>\n",
       "      <th>mean</th>\n",
       "      <td>23.514573</td>\n",
       "      <td>5.454774</td>\n",
       "      <td>193.425879</td>\n",
       "      <td>104.469388</td>\n",
       "      <td>2970.424623</td>\n",
       "      <td>15.568090</td>\n",
       "      <td>76.010050</td>\n",
       "      <td>1.572864</td>\n",
       "    </tr>\n",
       "    <tr>\n",
       "      <th>std</th>\n",
       "      <td>7.815984</td>\n",
       "      <td>1.701004</td>\n",
       "      <td>104.269838</td>\n",
       "      <td>38.491160</td>\n",
       "      <td>846.841774</td>\n",
       "      <td>2.757689</td>\n",
       "      <td>3.697627</td>\n",
       "      <td>0.802055</td>\n",
       "    </tr>\n",
       "    <tr>\n",
       "      <th>min</th>\n",
       "      <td>9.000000</td>\n",
       "      <td>3.000000</td>\n",
       "      <td>68.000000</td>\n",
       "      <td>46.000000</td>\n",
       "      <td>1613.000000</td>\n",
       "      <td>8.000000</td>\n",
       "      <td>70.000000</td>\n",
       "      <td>1.000000</td>\n",
       "    </tr>\n",
       "    <tr>\n",
       "      <th>25%</th>\n",
       "      <td>17.500000</td>\n",
       "      <td>4.000000</td>\n",
       "      <td>104.250000</td>\n",
       "      <td>75.000000</td>\n",
       "      <td>2223.750000</td>\n",
       "      <td>13.825000</td>\n",
       "      <td>73.000000</td>\n",
       "      <td>1.000000</td>\n",
       "    </tr>\n",
       "    <tr>\n",
       "      <th>50%</th>\n",
       "      <td>23.000000</td>\n",
       "      <td>4.000000</td>\n",
       "      <td>148.500000</td>\n",
       "      <td>93.500000</td>\n",
       "      <td>2803.500000</td>\n",
       "      <td>15.500000</td>\n",
       "      <td>76.000000</td>\n",
       "      <td>1.000000</td>\n",
       "    </tr>\n",
       "    <tr>\n",
       "      <th>75%</th>\n",
       "      <td>29.000000</td>\n",
       "      <td>8.000000</td>\n",
       "      <td>262.000000</td>\n",
       "      <td>126.000000</td>\n",
       "      <td>3608.000000</td>\n",
       "      <td>17.175000</td>\n",
       "      <td>79.000000</td>\n",
       "      <td>2.000000</td>\n",
       "    </tr>\n",
       "    <tr>\n",
       "      <th>max</th>\n",
       "      <td>46.600000</td>\n",
       "      <td>8.000000</td>\n",
       "      <td>455.000000</td>\n",
       "      <td>230.000000</td>\n",
       "      <td>5140.000000</td>\n",
       "      <td>24.800000</td>\n",
       "      <td>82.000000</td>\n",
       "      <td>3.000000</td>\n",
       "    </tr>\n",
       "  </tbody>\n",
       "</table>\n",
       "</div>"
      ],
      "text/plain": [
       "              mpg   cylinders  displacement  horsepower       weight  \\\n",
       "count  398.000000  398.000000    398.000000  392.000000   398.000000   \n",
       "mean    23.514573    5.454774    193.425879  104.469388  2970.424623   \n",
       "std      7.815984    1.701004    104.269838   38.491160   846.841774   \n",
       "min      9.000000    3.000000     68.000000   46.000000  1613.000000   \n",
       "25%     17.500000    4.000000    104.250000   75.000000  2223.750000   \n",
       "50%     23.000000    4.000000    148.500000   93.500000  2803.500000   \n",
       "75%     29.000000    8.000000    262.000000  126.000000  3608.000000   \n",
       "max     46.600000    8.000000    455.000000  230.000000  5140.000000   \n",
       "\n",
       "       acceleration  model_year      origin  \n",
       "count    398.000000  398.000000  398.000000  \n",
       "mean      15.568090   76.010050    1.572864  \n",
       "std        2.757689    3.697627    0.802055  \n",
       "min        8.000000   70.000000    1.000000  \n",
       "25%       13.825000   73.000000    1.000000  \n",
       "50%       15.500000   76.000000    1.000000  \n",
       "75%       17.175000   79.000000    2.000000  \n",
       "max       24.800000   82.000000    3.000000  "
      ]
     },
     "execution_count": 7,
     "metadata": {},
     "output_type": "execute_result"
    }
   ],
   "source": [
    "mpg_data.describe()"
   ]
  },
  {
   "cell_type": "code",
   "execution_count": 8,
   "metadata": {},
   "outputs": [
    {
     "name": "stdout",
     "output_type": "stream",
     "text": [
      "<class 'pandas.core.frame.DataFrame'>\n",
      "RangeIndex: 398 entries, 0 to 397\n",
      "Data columns (total 9 columns):\n",
      "mpg             398 non-null float64\n",
      "cylinders       398 non-null int64\n",
      "displacement    398 non-null float64\n",
      "horsepower      392 non-null float64\n",
      "weight          398 non-null float64\n",
      "acceleration    398 non-null float64\n",
      "model_year      398 non-null int64\n",
      "origin          398 non-null int64\n",
      "name            398 non-null object\n",
      "dtypes: float64(5), int64(3), object(1)\n",
      "memory usage: 28.1+ KB\n"
     ]
    }
   ],
   "source": [
    "mpg_data.info()"
   ]
  },
  {
   "cell_type": "code",
   "execution_count": 19,
   "metadata": {
    "scrolled": true
   },
   "outputs": [
    {
     "name": "stdout",
     "output_type": "stream",
     "text": [
      "593 µs ± 43.1 µs per loop (mean ± std. dev. of 7 runs, 1000 loops each)\n"
     ]
    }
   ],
   "source": [
    "# Check if there is any missing value\n",
    "%timeit pd.isnull(mpg_data).values.any()"
   ]
  },
  {
   "cell_type": "code",
   "execution_count": 20,
   "metadata": {},
   "outputs": [
    {
     "data": {
      "text/plain": [
       "True"
      ]
     },
     "execution_count": 20,
     "metadata": {},
     "output_type": "execute_result"
    }
   ],
   "source": [
    "# Check if there is any missing value\n",
    "mpg_data.isnull().values.any()"
   ]
  },
  {
   "cell_type": "code",
   "execution_count": 13,
   "metadata": {},
   "outputs": [
    {
     "data": {
      "text/plain": [
       "-0.8317409332443354"
      ]
     },
     "execution_count": 13,
     "metadata": {},
     "output_type": "execute_result"
    }
   ],
   "source": [
    "mpg_data.mpg.corr(mpg_data.weight)"
   ]
  },
  {
   "cell_type": "code",
   "execution_count": 14,
   "metadata": {},
   "outputs": [
    {
     "data": {
      "text/html": [
       "<div>\n",
       "<style>\n",
       "    .dataframe thead tr:only-child th {\n",
       "        text-align: right;\n",
       "    }\n",
       "\n",
       "    .dataframe thead th {\n",
       "        text-align: left;\n",
       "    }\n",
       "\n",
       "    .dataframe tbody tr th {\n",
       "        vertical-align: top;\n",
       "    }\n",
       "</style>\n",
       "<table border=\"1\" class=\"dataframe\">\n",
       "  <thead>\n",
       "    <tr style=\"text-align: right;\">\n",
       "      <th></th>\n",
       "      <th>mpg</th>\n",
       "      <th>cylinders</th>\n",
       "      <th>displacement</th>\n",
       "      <th>horsepower</th>\n",
       "      <th>weight</th>\n",
       "      <th>acceleration</th>\n",
       "    </tr>\n",
       "  </thead>\n",
       "  <tbody>\n",
       "    <tr>\n",
       "      <th>mpg</th>\n",
       "      <td>1.000000</td>\n",
       "      <td>-0.821864</td>\n",
       "      <td>-0.855692</td>\n",
       "      <td>-0.853616</td>\n",
       "      <td>-0.874947</td>\n",
       "      <td>0.438677</td>\n",
       "    </tr>\n",
       "    <tr>\n",
       "      <th>cylinders</th>\n",
       "      <td>-0.821864</td>\n",
       "      <td>1.000000</td>\n",
       "      <td>0.911876</td>\n",
       "      <td>0.816188</td>\n",
       "      <td>0.873314</td>\n",
       "      <td>-0.474189</td>\n",
       "    </tr>\n",
       "    <tr>\n",
       "      <th>displacement</th>\n",
       "      <td>-0.855692</td>\n",
       "      <td>0.911876</td>\n",
       "      <td>1.000000</td>\n",
       "      <td>0.876171</td>\n",
       "      <td>0.945986</td>\n",
       "      <td>-0.496512</td>\n",
       "    </tr>\n",
       "    <tr>\n",
       "      <th>horsepower</th>\n",
       "      <td>-0.853616</td>\n",
       "      <td>0.816188</td>\n",
       "      <td>0.876171</td>\n",
       "      <td>1.000000</td>\n",
       "      <td>0.878819</td>\n",
       "      <td>-0.658142</td>\n",
       "    </tr>\n",
       "    <tr>\n",
       "      <th>weight</th>\n",
       "      <td>-0.874947</td>\n",
       "      <td>0.873314</td>\n",
       "      <td>0.945986</td>\n",
       "      <td>0.878819</td>\n",
       "      <td>1.000000</td>\n",
       "      <td>-0.404550</td>\n",
       "    </tr>\n",
       "    <tr>\n",
       "      <th>acceleration</th>\n",
       "      <td>0.438677</td>\n",
       "      <td>-0.474189</td>\n",
       "      <td>-0.496512</td>\n",
       "      <td>-0.658142</td>\n",
       "      <td>-0.404550</td>\n",
       "      <td>1.000000</td>\n",
       "    </tr>\n",
       "  </tbody>\n",
       "</table>\n",
       "</div>"
      ],
      "text/plain": [
       "                   mpg  cylinders  displacement  horsepower    weight  \\\n",
       "mpg           1.000000  -0.821864     -0.855692   -0.853616 -0.874947   \n",
       "cylinders    -0.821864   1.000000      0.911876    0.816188  0.873314   \n",
       "displacement -0.855692   0.911876      1.000000    0.876171  0.945986   \n",
       "horsepower   -0.853616   0.816188      0.876171    1.000000  0.878819   \n",
       "weight       -0.874947   0.873314      0.945986    0.878819  1.000000   \n",
       "acceleration  0.438677  -0.474189     -0.496512   -0.658142 -0.404550   \n",
       "\n",
       "              acceleration  \n",
       "mpg               0.438677  \n",
       "cylinders        -0.474189  \n",
       "displacement     -0.496512  \n",
       "horsepower       -0.658142  \n",
       "weight           -0.404550  \n",
       "acceleration      1.000000  "
      ]
     },
     "execution_count": 14,
     "metadata": {},
     "output_type": "execute_result"
    }
   ],
   "source": [
    "mpg_data.drop(['model_year', 'origin'], axis=1).corr(method='spearman')"
   ]
  },
  {
   "cell_type": "code",
   "execution_count": 31,
   "metadata": {
    "collapsed": true
   },
   "outputs": [],
   "source": [
    "import matplotlib.pyplot as plt\n",
    "from matplotlib.ticker import FormatStrFormatter"
   ]
  },
  {
   "cell_type": "code",
   "execution_count": 24,
   "metadata": {},
   "outputs": [
    {
     "data": {
      "text/html": [
       "<style  type=\"text/css\" >\n",
       "    #T_5e2bee48_c09a_11e7_9965_1867b0537b24row0_col0 {\n",
       "            background-color:  #b40426;\n",
       "        }    #T_5e2bee48_c09a_11e7_9965_1867b0537b24row0_col1 {\n",
       "            background-color:  #4358cb;\n",
       "        }    #T_5e2bee48_c09a_11e7_9965_1867b0537b24row0_col2 {\n",
       "            background-color:  #3e51c5;\n",
       "        }    #T_5e2bee48_c09a_11e7_9965_1867b0537b24row0_col3 {\n",
       "            background-color:  #4358cb;\n",
       "        }    #T_5e2bee48_c09a_11e7_9965_1867b0537b24row0_col4 {\n",
       "            background-color:  #3b4cc0;\n",
       "        }    #T_5e2bee48_c09a_11e7_9965_1867b0537b24row0_col5 {\n",
       "            background-color:  #f7b396;\n",
       "        }    #T_5e2bee48_c09a_11e7_9965_1867b0537b24row1_col0 {\n",
       "            background-color:  #3b4cc0;\n",
       "        }    #T_5e2bee48_c09a_11e7_9965_1867b0537b24row1_col1 {\n",
       "            background-color:  #b40426;\n",
       "        }    #T_5e2bee48_c09a_11e7_9965_1867b0537b24row1_col2 {\n",
       "            background-color:  #be242e;\n",
       "        }    #T_5e2bee48_c09a_11e7_9965_1867b0537b24row1_col3 {\n",
       "            background-color:  #d24b40;\n",
       "        }    #T_5e2bee48_c09a_11e7_9965_1867b0537b24row1_col4 {\n",
       "            background-color:  #c83836;\n",
       "        }    #T_5e2bee48_c09a_11e7_9965_1867b0537b24row1_col5 {\n",
       "            background-color:  #6a8bef;\n",
       "        }    #T_5e2bee48_c09a_11e7_9965_1867b0537b24row2_col0 {\n",
       "            background-color:  #3b4cc0;\n",
       "        }    #T_5e2bee48_c09a_11e7_9965_1867b0537b24row2_col1 {\n",
       "            background-color:  #bd1f2d;\n",
       "        }    #T_5e2bee48_c09a_11e7_9965_1867b0537b24row2_col2 {\n",
       "            background-color:  #b40426;\n",
       "        }    #T_5e2bee48_c09a_11e7_9965_1867b0537b24row2_col3 {\n",
       "            background-color:  #c83836;\n",
       "        }    #T_5e2bee48_c09a_11e7_9965_1867b0537b24row2_col4 {\n",
       "            background-color:  #c12b30;\n",
       "        }    #T_5e2bee48_c09a_11e7_9965_1867b0537b24row2_col5 {\n",
       "            background-color:  #6788ee;\n",
       "        }    #T_5e2bee48_c09a_11e7_9965_1867b0537b24row3_col0 {\n",
       "            background-color:  #3b4cc0;\n",
       "        }    #T_5e2bee48_c09a_11e7_9965_1867b0537b24row3_col1 {\n",
       "            background-color:  #d24b40;\n",
       "        }    #T_5e2bee48_c09a_11e7_9965_1867b0537b24row3_col2 {\n",
       "            background-color:  #c83836;\n",
       "        }    #T_5e2bee48_c09a_11e7_9965_1867b0537b24row3_col3 {\n",
       "            background-color:  #b40426;\n",
       "        }    #T_5e2bee48_c09a_11e7_9965_1867b0537b24row3_col4 {\n",
       "            background-color:  #cf453c;\n",
       "        }    #T_5e2bee48_c09a_11e7_9965_1867b0537b24row3_col5 {\n",
       "            background-color:  #4961d2;\n",
       "        }    #T_5e2bee48_c09a_11e7_9965_1867b0537b24row4_col0 {\n",
       "            background-color:  #3b4cc0;\n",
       "        }    #T_5e2bee48_c09a_11e7_9965_1867b0537b24row4_col1 {\n",
       "            background-color:  #c83836;\n",
       "        }    #T_5e2bee48_c09a_11e7_9965_1867b0537b24row4_col2 {\n",
       "            background-color:  #c12b30;\n",
       "        }    #T_5e2bee48_c09a_11e7_9965_1867b0537b24row4_col3 {\n",
       "            background-color:  #cd423b;\n",
       "        }    #T_5e2bee48_c09a_11e7_9965_1867b0537b24row4_col4 {\n",
       "            background-color:  #b40426;\n",
       "        }    #T_5e2bee48_c09a_11e7_9965_1867b0537b24row4_col5 {\n",
       "            background-color:  #84a7fc;\n",
       "        }    #T_5e2bee48_c09a_11e7_9965_1867b0537b24row5_col0 {\n",
       "            background-color:  #f7ba9f;\n",
       "        }    #T_5e2bee48_c09a_11e7_9965_1867b0537b24row5_col1 {\n",
       "            background-color:  #5b7ae5;\n",
       "        }    #T_5e2bee48_c09a_11e7_9965_1867b0537b24row5_col2 {\n",
       "            background-color:  #5572df;\n",
       "        }    #T_5e2bee48_c09a_11e7_9965_1867b0537b24row5_col3 {\n",
       "            background-color:  #3b4cc0;\n",
       "        }    #T_5e2bee48_c09a_11e7_9965_1867b0537b24row5_col4 {\n",
       "            background-color:  #6e90f2;\n",
       "        }    #T_5e2bee48_c09a_11e7_9965_1867b0537b24row5_col5 {\n",
       "            background-color:  #b40426;\n",
       "        }</style>  \n",
       "<table id=\"T_5e2bee48_c09a_11e7_9965_1867b0537b24\" > \n",
       "<thead>    <tr> \n",
       "        <th class=\"blank level0\" ></th> \n",
       "        <th class=\"col_heading level0 col0\" >mpg</th> \n",
       "        <th class=\"col_heading level0 col1\" >cylinders</th> \n",
       "        <th class=\"col_heading level0 col2\" >displacement</th> \n",
       "        <th class=\"col_heading level0 col3\" >horsepower</th> \n",
       "        <th class=\"col_heading level0 col4\" >weight</th> \n",
       "        <th class=\"col_heading level0 col5\" >acceleration</th> \n",
       "    </tr></thead> \n",
       "<tbody>    <tr> \n",
       "        <th id=\"T_5e2bee48_c09a_11e7_9965_1867b0537b24level0_row0\" class=\"row_heading level0 row0\" >mpg</th> \n",
       "        <td id=\"T_5e2bee48_c09a_11e7_9965_1867b0537b24row0_col0\" class=\"data row0 col0\" >1.0</td> \n",
       "        <td id=\"T_5e2bee48_c09a_11e7_9965_1867b0537b24row0_col1\" class=\"data row0 col1\" >-0.78</td> \n",
       "        <td id=\"T_5e2bee48_c09a_11e7_9965_1867b0537b24row0_col2\" class=\"data row0 col2\" >-0.8</td> \n",
       "        <td id=\"T_5e2bee48_c09a_11e7_9965_1867b0537b24row0_col3\" class=\"data row0 col3\" >-0.78</td> \n",
       "        <td id=\"T_5e2bee48_c09a_11e7_9965_1867b0537b24row0_col4\" class=\"data row0 col4\" >-0.83</td> \n",
       "        <td id=\"T_5e2bee48_c09a_11e7_9965_1867b0537b24row0_col5\" class=\"data row0 col5\" >0.42</td> \n",
       "    </tr>    <tr> \n",
       "        <th id=\"T_5e2bee48_c09a_11e7_9965_1867b0537b24level0_row1\" class=\"row_heading level0 row1\" >cylinders</th> \n",
       "        <td id=\"T_5e2bee48_c09a_11e7_9965_1867b0537b24row1_col0\" class=\"data row1 col0\" >-0.78</td> \n",
       "        <td id=\"T_5e2bee48_c09a_11e7_9965_1867b0537b24row1_col1\" class=\"data row1 col1\" >1.0</td> \n",
       "        <td id=\"T_5e2bee48_c09a_11e7_9965_1867b0537b24row1_col2\" class=\"data row1 col2\" >0.95</td> \n",
       "        <td id=\"T_5e2bee48_c09a_11e7_9965_1867b0537b24row1_col3\" class=\"data row1 col3\" >0.84</td> \n",
       "        <td id=\"T_5e2bee48_c09a_11e7_9965_1867b0537b24row1_col4\" class=\"data row1 col4\" >0.9</td> \n",
       "        <td id=\"T_5e2bee48_c09a_11e7_9965_1867b0537b24row1_col5\" class=\"data row1 col5\" >-0.51</td> \n",
       "    </tr>    <tr> \n",
       "        <th id=\"T_5e2bee48_c09a_11e7_9965_1867b0537b24level0_row2\" class=\"row_heading level0 row2\" >displacement</th> \n",
       "        <td id=\"T_5e2bee48_c09a_11e7_9965_1867b0537b24row2_col0\" class=\"data row2 col0\" >-0.8</td> \n",
       "        <td id=\"T_5e2bee48_c09a_11e7_9965_1867b0537b24row2_col1\" class=\"data row2 col1\" >0.95</td> \n",
       "        <td id=\"T_5e2bee48_c09a_11e7_9965_1867b0537b24row2_col2\" class=\"data row2 col2\" >1.0</td> \n",
       "        <td id=\"T_5e2bee48_c09a_11e7_9965_1867b0537b24row2_col3\" class=\"data row2 col3\" >0.9</td> \n",
       "        <td id=\"T_5e2bee48_c09a_11e7_9965_1867b0537b24row2_col4\" class=\"data row2 col4\" >0.93</td> \n",
       "        <td id=\"T_5e2bee48_c09a_11e7_9965_1867b0537b24row2_col5\" class=\"data row2 col5\" >-0.54</td> \n",
       "    </tr>    <tr> \n",
       "        <th id=\"T_5e2bee48_c09a_11e7_9965_1867b0537b24level0_row3\" class=\"row_heading level0 row3\" >horsepower</th> \n",
       "        <td id=\"T_5e2bee48_c09a_11e7_9965_1867b0537b24row3_col0\" class=\"data row3 col0\" >-0.78</td> \n",
       "        <td id=\"T_5e2bee48_c09a_11e7_9965_1867b0537b24row3_col1\" class=\"data row3 col1\" >0.84</td> \n",
       "        <td id=\"T_5e2bee48_c09a_11e7_9965_1867b0537b24row3_col2\" class=\"data row3 col2\" >0.9</td> \n",
       "        <td id=\"T_5e2bee48_c09a_11e7_9965_1867b0537b24row3_col3\" class=\"data row3 col3\" >1.0</td> \n",
       "        <td id=\"T_5e2bee48_c09a_11e7_9965_1867b0537b24row3_col4\" class=\"data row3 col4\" >0.86</td> \n",
       "        <td id=\"T_5e2bee48_c09a_11e7_9965_1867b0537b24row3_col5\" class=\"data row3 col5\" >-0.69</td> \n",
       "    </tr>    <tr> \n",
       "        <th id=\"T_5e2bee48_c09a_11e7_9965_1867b0537b24level0_row4\" class=\"row_heading level0 row4\" >weight</th> \n",
       "        <td id=\"T_5e2bee48_c09a_11e7_9965_1867b0537b24row4_col0\" class=\"data row4 col0\" >-0.83</td> \n",
       "        <td id=\"T_5e2bee48_c09a_11e7_9965_1867b0537b24row4_col1\" class=\"data row4 col1\" >0.9</td> \n",
       "        <td id=\"T_5e2bee48_c09a_11e7_9965_1867b0537b24row4_col2\" class=\"data row4 col2\" >0.93</td> \n",
       "        <td id=\"T_5e2bee48_c09a_11e7_9965_1867b0537b24row4_col3\" class=\"data row4 col3\" >0.86</td> \n",
       "        <td id=\"T_5e2bee48_c09a_11e7_9965_1867b0537b24row4_col4\" class=\"data row4 col4\" >1.0</td> \n",
       "        <td id=\"T_5e2bee48_c09a_11e7_9965_1867b0537b24row4_col5\" class=\"data row4 col5\" >-0.42</td> \n",
       "    </tr>    <tr> \n",
       "        <th id=\"T_5e2bee48_c09a_11e7_9965_1867b0537b24level0_row5\" class=\"row_heading level0 row5\" >acceleration</th> \n",
       "        <td id=\"T_5e2bee48_c09a_11e7_9965_1867b0537b24row5_col0\" class=\"data row5 col0\" >0.42</td> \n",
       "        <td id=\"T_5e2bee48_c09a_11e7_9965_1867b0537b24row5_col1\" class=\"data row5 col1\" >-0.51</td> \n",
       "        <td id=\"T_5e2bee48_c09a_11e7_9965_1867b0537b24row5_col2\" class=\"data row5 col2\" >-0.54</td> \n",
       "        <td id=\"T_5e2bee48_c09a_11e7_9965_1867b0537b24row5_col3\" class=\"data row5 col3\" >-0.69</td> \n",
       "        <td id=\"T_5e2bee48_c09a_11e7_9965_1867b0537b24row5_col4\" class=\"data row5 col4\" >-0.42</td> \n",
       "        <td id=\"T_5e2bee48_c09a_11e7_9965_1867b0537b24row5_col5\" class=\"data row5 col5\" >1.0</td> \n",
       "    </tr></tbody> \n",
       "</table> "
      ],
      "text/plain": [
       "<pandas.io.formats.style.Styler at 0x7f103c4ccfd0>"
      ]
     },
     "execution_count": 24,
     "metadata": {},
     "output_type": "execute_result"
    }
   ],
   "source": [
    "mpg_data.drop(['model_year', 'origin'], axis=1).corr(method='pearson').style.format(\"{:.2}\").background_gradient(cmap=plt.get_cmap('coolwarm'), axis=1)"
   ]
  },
  {
   "cell_type": "code",
   "execution_count": 26,
   "metadata": {
    "collapsed": true
   },
   "outputs": [],
   "source": [
    "%matplotlib inline"
   ]
  },
  {
   "cell_type": "code",
   "execution_count": 27,
   "metadata": {
    "collapsed": true
   },
   "outputs": [],
   "source": [
    "import seaborn as sns"
   ]
  },
  {
   "cell_type": "markdown",
   "metadata": {},
   "source": [
    "To reset the seaborn style\n",
    "\n",
    "`sns.set()`"
   ]
  },
  {
   "cell_type": "code",
   "execution_count": 50,
   "metadata": {
    "scrolled": false
   },
   "outputs": [
    {
     "data": {
      "text/plain": [
       "<matplotlib.axes._subplots.AxesSubplot at 0x7f100013e128>"
      ]
     },
     "execution_count": 50,
     "metadata": {},
     "output_type": "execute_result"
    },
    {
     "data": {
      "image/png": "[encoded data removed]",
      "text/plain": [
       "<matplotlib.figure.Figure at 0x7f1000202b00>"
      ]
     },
     "metadata": {},
     "output_type": "display_data"
    }
   ],
   "source": [
    "f, ax = plt.subplots(figsize=(15,7))\n",
    "ax.xaxis.set_major_formatter(FormatStrFormatter('%.2f'))\n",
    "sns.stripplot(x='mpg', y='weight', data=mpg_data, ax=ax)"
   ]
  }
 ],
 "metadata": {
  "kernelspec": {
   "display_name": "Python 3",
   "language": "python",
   "name": "python3"
  },
  "language_info": {
   "codemirror_mode": {
    "name": "ipython",
    "version": 3
   },
   "file_extension": ".py",
   "mimetype": "text/x-python",
   "name": "python",
   "nbconvert_exporter": "python",
   "pygments_lexer": "ipython3",
   "version": "3.6.3"
  }
 },
 "nbformat": 4,
 "nbformat_minor": 2
}
